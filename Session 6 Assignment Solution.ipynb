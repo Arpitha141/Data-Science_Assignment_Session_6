{
 "cells": [
  {
   "cell_type": "markdown",
   "metadata": {},
   "source": [
    "## Write a function so that the columns of the output matrix are powers of the input vector.\n",
    "The order of the powers is determined by the increasing boolean argument. Specifically,\n",
    "when increasing is False, the i-th output column is the input vector raised element-wise\n",
    "to the power of N - i - 1.\n",
    "\n",
    "HINT: Such a matrix with a geometric progression in each row is named for Alexandre-\n",
    "Theophile Vandermonde."
   ]
  },
  {
   "cell_type": "code",
   "execution_count": 1,
   "metadata": {},
   "outputs": [],
   "source": [
    "#import numpy\n",
    "import numpy as np"
   ]
  },
  {
   "cell_type": "code",
   "execution_count": 2,
   "metadata": {},
   "outputs": [],
   "source": [
    "#Function  using numpy.column_stack() function\n",
    "def generateVanderMatrix(inputVector,N):\n",
    "    x = np.array(inputVector)\n",
    "    #Matrix when N is defined \n",
    "    if(N!=None):\n",
    "        # increasing order is False\n",
    "        y = np.column_stack([x**[N-i-1] for i in range(N)])\n",
    "        print('Vander Matrix when increasing order is False ')\n",
    "        print(y)\n",
    "        print('------------------------------------------------')\n",
    "        # increasing order is True\n",
    "        print('Vander Matrix when increasing order is True ')\n",
    "        z = np.column_stack([x**[N-i-1] for i in range(N)])\n",
    "        print(np.flip(z,axis=1))\n",
    "    # when N is not defined , the square matrix will be produced from the length of the vector\n",
    "    else:\n",
    "         # increasing order is False\n",
    "        y = np.column_stack([x**[len(x)-i-1] for i in range(len(x))])\n",
    "        print('Vander Matrix when increasing order is False ')\n",
    "        print(y)\n",
    "        print('------------------------------------------------')\n",
    "        # increasing order is True\n",
    "        z = np.column_stack([x**[len(x)-i-1] for i in range(len(x))])\n",
    "        print('Vander Matrix when increasing order is True ')\n",
    "        print(np.flip(z,axis=1)) "
   ]
  },
  {
   "cell_type": "code",
   "execution_count": 3,
   "metadata": {},
   "outputs": [
    {
     "name": "stdout",
     "output_type": "stream",
     "text": [
      "Vander Matrix when increasing order is False \n",
      "[[  1   1   1   1]\n",
      " [  8   4   2   1]\n",
      " [ 27   9   3   1]\n",
      " [125  25   5   1]]\n",
      "------------------------------------------------\n",
      "Vander Matrix when increasing order is True \n",
      "[[  1   1   1   1]\n",
      " [  1   2   4   8]\n",
      " [  1   3   9  27]\n",
      " [  1   5  25 125]]\n"
     ]
    }
   ],
   "source": [
    "generateVanderMatrix([1,2,3,5],None)"
   ]
  },
  {
   "cell_type": "code",
   "execution_count": 4,
   "metadata": {},
   "outputs": [
    {
     "name": "stdout",
     "output_type": "stream",
     "text": [
      "Vander Matrix when increasing order is False \n",
      "[[ 1  1  1]\n",
      " [ 4  2  1]\n",
      " [ 9  3  1]\n",
      " [25  5  1]]\n",
      "------------------------------------------------\n",
      "Vander Matrix when increasing order is True \n",
      "[[ 1  1  1]\n",
      " [ 1  2  4]\n",
      " [ 1  3  9]\n",
      " [ 1  5 25]]\n"
     ]
    }
   ],
   "source": [
    "generateVanderMatrix([1,2,3,5],3)"
   ]
  },
  {
   "cell_type": "code",
   "execution_count": 5,
   "metadata": {},
   "outputs": [
    {
     "name": "stdout",
     "output_type": "stream",
     "text": [
      "Vander Matrix when increasing order is False \n",
      "[[   1    1    1    1    1    1]\n",
      " [  32   16    8    4    2    1]\n",
      " [ 243   81   27    9    3    1]\n",
      " [1024  256   64   16    4    1]\n",
      " [3125  625  125   25    5    1]\n",
      " [7776 1296  216   36    6    1]]\n",
      "------------------------------------------------\n",
      "Vander Matrix when increasing order is True \n",
      "[[   1    1    1    1    1    1]\n",
      " [   1    2    4    8   16   32]\n",
      " [   1    3    9   27   81  243]\n",
      " [   1    4   16   64  256 1024]\n",
      " [   1    5   25  125  625 3125]\n",
      " [   1    6   36  216 1296 7776]]\n"
     ]
    }
   ],
   "source": [
    "generateVanderMatrix([1,2,3,4,5,6],None)"
   ]
  },
  {
   "cell_type": "code",
   "execution_count": 6,
   "metadata": {},
   "outputs": [
    {
     "name": "stdout",
     "output_type": "stream",
     "text": [
      "Vander Matrix when increasing order is False \n",
      "[[   1    1    1    1    1]\n",
      " [  16    8    4    2    1]\n",
      " [  81   27    9    3    1]\n",
      " [ 256   64   16    4    1]\n",
      " [ 625  125   25    5    1]\n",
      " [1296  216   36    6    1]]\n",
      "------------------------------------------------\n",
      "Vander Matrix when increasing order is True \n",
      "[[   1    1    1    1    1]\n",
      " [   1    2    4    8   16]\n",
      " [   1    3    9   27   81]\n",
      " [   1    4   16   64  256]\n",
      " [   1    5   25  125  625]\n",
      " [   1    6   36  216 1296]]\n"
     ]
    }
   ],
   "source": [
    "generateVanderMatrix([1,2,3,4,5,6],5)"
   ]
  },
  {
   "cell_type": "code",
   "execution_count": 7,
   "metadata": {},
   "outputs": [],
   "source": [
    "#Function using numpy.vander() function\n",
    "def generateVanderMatrix1(inputVector,N):\n",
    "    x = np.array(inputVector)\n",
    "     #Matrix when N is defined \n",
    "    if(N!=None):\n",
    "        # increasing order is False\n",
    "        y = np.vander(x, N, increasing=False)\n",
    "        print('Vander Matrix when increasing order is False ')\n",
    "        print(y)\n",
    "        print('------------------------------------------------')\n",
    "        # increasing order is True\n",
    "        print('Vander Matrix when increasing order is True ')\n",
    "        z = np.vander(x,N,increasing=True)\n",
    "        print(z)\n",
    "    # when N is not defined , the square matrix will be produced from the length of the vector\n",
    "    else:\n",
    "         # increasing order is False\n",
    "        y = np.vander(x, N, increasing=False)\n",
    "        print('Vander Matrix when increasing order is False ')\n",
    "        print(y)\n",
    "        print('------------------------------------------------')\n",
    "        # increasing order is True\n",
    "        z = np.vander(x,N,increasing=True)\n",
    "        print('Vander Matrix when increasing order is True ')\n",
    "        print(np.flip(z,axis=1)) "
   ]
  },
  {
   "cell_type": "code",
   "execution_count": 8,
   "metadata": {},
   "outputs": [
    {
     "name": "stdout",
     "output_type": "stream",
     "text": [
      "Vander Matrix when increasing order is False \n",
      "[[  1   1   1   1]\n",
      " [  8   4   2   1]\n",
      " [ 27   9   3   1]\n",
      " [125  25   5   1]]\n",
      "------------------------------------------------\n",
      "Vander Matrix when increasing order is True \n",
      "[[  1   1   1   1]\n",
      " [  8   4   2   1]\n",
      " [ 27   9   3   1]\n",
      " [125  25   5   1]]\n"
     ]
    }
   ],
   "source": [
    "generateVanderMatrix1([1,2,3,5],None)"
   ]
  },
  {
   "cell_type": "code",
   "execution_count": 9,
   "metadata": {},
   "outputs": [
    {
     "name": "stdout",
     "output_type": "stream",
     "text": [
      "Vander Matrix when increasing order is False \n",
      "[[ 1  1  1]\n",
      " [ 4  2  1]\n",
      " [ 9  3  1]\n",
      " [25  5  1]]\n",
      "------------------------------------------------\n",
      "Vander Matrix when increasing order is True \n",
      "[[ 1  1  1]\n",
      " [ 1  2  4]\n",
      " [ 1  3  9]\n",
      " [ 1  5 25]]\n"
     ]
    }
   ],
   "source": [
    "generateVanderMatrix1([1,2,3,5],3)"
   ]
  },
  {
   "cell_type": "code",
   "execution_count": 10,
   "metadata": {},
   "outputs": [
    {
     "name": "stdout",
     "output_type": "stream",
     "text": [
      "Vander Matrix when increasing order is False \n",
      "[[   1    1    1    1    1    1]\n",
      " [  32   16    8    4    2    1]\n",
      " [ 243   81   27    9    3    1]\n",
      " [1024  256   64   16    4    1]\n",
      " [3125  625  125   25    5    1]\n",
      " [7776 1296  216   36    6    1]]\n",
      "------------------------------------------------\n",
      "Vander Matrix when increasing order is True \n",
      "[[   1    1    1    1    1    1]\n",
      " [  32   16    8    4    2    1]\n",
      " [ 243   81   27    9    3    1]\n",
      " [1024  256   64   16    4    1]\n",
      " [3125  625  125   25    5    1]\n",
      " [7776 1296  216   36    6    1]]\n"
     ]
    }
   ],
   "source": [
    "generateVanderMatrix1([1,2,3,4,5,6],None)"
   ]
  },
  {
   "cell_type": "code",
   "execution_count": 11,
   "metadata": {},
   "outputs": [
    {
     "name": "stdout",
     "output_type": "stream",
     "text": [
      "Vander Matrix when increasing order is False \n",
      "[[   1    1    1    1    1]\n",
      " [  16    8    4    2    1]\n",
      " [  81   27    9    3    1]\n",
      " [ 256   64   16    4    1]\n",
      " [ 625  125   25    5    1]\n",
      " [1296  216   36    6    1]]\n",
      "------------------------------------------------\n",
      "Vander Matrix when increasing order is True \n",
      "[[   1    1    1    1    1]\n",
      " [   1    2    4    8   16]\n",
      " [   1    3    9   27   81]\n",
      " [   1    4   16   64  256]\n",
      " [   1    5   25  125  625]\n",
      " [   1    6   36  216 1296]]\n"
     ]
    }
   ],
   "source": [
    "generateVanderMatrix1([1,2,3,4,5,6],5)"
   ]
  },
  {
   "cell_type": "code",
   "execution_count": null,
   "metadata": {},
   "outputs": [],
   "source": []
  }
 ],
 "metadata": {
  "kernelspec": {
   "display_name": "Python 3",
   "language": "python",
   "name": "python3"
  },
  "language_info": {
   "codemirror_mode": {
    "name": "ipython",
    "version": 3
   },
   "file_extension": ".py",
   "mimetype": "text/x-python",
   "name": "python",
   "nbconvert_exporter": "python",
   "pygments_lexer": "ipython3",
   "version": "3.7.0"
  }
 },
 "nbformat": 4,
 "nbformat_minor": 2
}
